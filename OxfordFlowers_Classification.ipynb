{
  "nbformat": 4,
  "nbformat_minor": 0,
  "metadata": {
    "colab": {
      "name": "OxfordFlowers Classification.ipynb",
      "provenance": []
    },
    "kernelspec": {
      "name": "python3",
      "display_name": "Python 3"
    },
    "language_info": {
      "name": "python"
    }
  },
  "cells": [
    {
      "cell_type": "markdown",
      "metadata": {
        "id": "eK1HoQdrl9My"
      },
      "source": [
        "# Intro\n",
        "\n",
        "In this project, we'll train an image classifier to recognize different species of flowers. You can imagine using something like this in a phone app that tells you the name of the flower your camera is looking at. We'll be using this dataset from Oxford of 102 flower categories\n",
        "\n",
        "The project is broken down into multiple steps:\n",
        "\n",
        "Load the image dataset and create a pipeline.\n",
        "Build and Train an image classifier on this dataset.\n",
        "Use your trained model to perform inference on flower images.\n",
        "We'll lead you through each part which you'll implement in Python.\n",
        "\n",
        "When you've completed this project, you'll have an application that can be trained on any set of labeled images. Here the network will be learning about flowers and end up as a command line application. "
      ]
    },
    {
      "cell_type": "code",
      "metadata": {
        "colab": {
          "base_uri": "https://localhost:8080/"
        },
        "id": "k2ZTI6HhmBms",
        "outputId": "d3d9791c-8eec-47b4-e134-c63dbf7d517c"
      },
      "source": [
        "# The new version of dataset is only available in the tfds-nightly package.\n",
        "%pip --no-cache-dir install tfds-nightly --user\n",
        "# DON'T MISS TO RESTART THE KERNEL\n"
      ],
      "execution_count": 1,
      "outputs": [
        {
          "output_type": "stream",
          "name": "stdout",
          "text": [
            "Collecting tfds-nightly\n",
            "  Downloading tfds_nightly-4.4.0.dev202111120107-py3-none-any.whl (4.0 MB)\n",
            "\u001b[K     |████████████████████████████████| 4.0 MB 7.1 MB/s \n",
            "\u001b[?25hRequirement already satisfied: importlib-resources in /usr/local/lib/python3.7/dist-packages (from tfds-nightly) (5.4.0)\n",
            "Requirement already satisfied: protobuf>=3.12.2 in /usr/local/lib/python3.7/dist-packages (from tfds-nightly) (3.17.3)\n",
            "Requirement already satisfied: numpy in /usr/local/lib/python3.7/dist-packages (from tfds-nightly) (1.19.5)\n",
            "Requirement already satisfied: termcolor in /usr/local/lib/python3.7/dist-packages (from tfds-nightly) (1.1.0)\n",
            "Requirement already satisfied: future in /usr/local/lib/python3.7/dist-packages (from tfds-nightly) (0.16.0)\n",
            "Requirement already satisfied: requests>=2.19.0 in /usr/local/lib/python3.7/dist-packages (from tfds-nightly) (2.23.0)\n",
            "Requirement already satisfied: typing-extensions in /usr/local/lib/python3.7/dist-packages (from tfds-nightly) (3.10.0.2)\n",
            "Requirement already satisfied: absl-py in /usr/local/lib/python3.7/dist-packages (from tfds-nightly) (0.12.0)\n",
            "Requirement already satisfied: tensorflow-metadata in /usr/local/lib/python3.7/dist-packages (from tfds-nightly) (1.4.0)\n",
            "Requirement already satisfied: tqdm in /usr/local/lib/python3.7/dist-packages (from tfds-nightly) (4.62.3)\n",
            "Requirement already satisfied: six in /usr/local/lib/python3.7/dist-packages (from tfds-nightly) (1.15.0)\n",
            "Requirement already satisfied: dill in /usr/local/lib/python3.7/dist-packages (from tfds-nightly) (0.3.4)\n",
            "Requirement already satisfied: promise in /usr/local/lib/python3.7/dist-packages (from tfds-nightly) (2.3)\n",
            "Requirement already satisfied: idna<3,>=2.5 in /usr/local/lib/python3.7/dist-packages (from requests>=2.19.0->tfds-nightly) (2.10)\n",
            "Requirement already satisfied: chardet<4,>=3.0.2 in /usr/local/lib/python3.7/dist-packages (from requests>=2.19.0->tfds-nightly) (3.0.4)\n",
            "Requirement already satisfied: certifi>=2017.4.17 in /usr/local/lib/python3.7/dist-packages (from requests>=2.19.0->tfds-nightly) (2021.10.8)\n",
            "Requirement already satisfied: urllib3!=1.25.0,!=1.25.1,<1.26,>=1.21.1 in /usr/local/lib/python3.7/dist-packages (from requests>=2.19.0->tfds-nightly) (1.24.3)\n",
            "Requirement already satisfied: zipp>=3.1.0 in /usr/local/lib/python3.7/dist-packages (from importlib-resources->tfds-nightly) (3.6.0)\n",
            "Requirement already satisfied: googleapis-common-protos<2,>=1.52.0 in /usr/local/lib/python3.7/dist-packages (from tensorflow-metadata->tfds-nightly) (1.53.0)\n",
            "Installing collected packages: tfds-nightly\n",
            "\u001b[33m  WARNING: The script tfds is installed in '/root/.local/bin' which is not on PATH.\n",
            "  Consider adding this directory to PATH or, if you prefer to suppress this warning, use --no-warn-script-location.\u001b[0m\n",
            "Successfully installed tfds-nightly-4.4.0.dev202111120107\n"
          ]
        }
      ]
    },
    {
      "cell_type": "code",
      "metadata": {
        "id": "DNyKyOBUmFZM"
      },
      "source": [
        "# Import TensorFlow \n",
        "import tensorflow as tf\n",
        "!python -m tensorflow_datasets.scripts.download_and_prepare --register_checksums=True --datasets=oxford_flowers102\n",
        "import tensorflow_datasets as tfds\n",
        "import tensorflow_hub as hub"
      ],
      "execution_count": null,
      "outputs": []
    },
    {
      "cell_type": "code",
      "metadata": {
        "id": "wA7TVMKMmdSz"
      },
      "source": [
        "# Make all other necessary imports.\n",
        "%matplotlib inline\n",
        "%config InlineBackend.figure_format = 'retina'\n",
        "\n",
        "import matplotlib.pyplot as plt\n",
        "import time\n",
        "import numpy as np\n",
        "import pandas as pd"
      ],
      "execution_count": null,
      "outputs": []
    },
    {
      "cell_type": "markdown",
      "metadata": {
        "id": "TfBfHpjYml58"
      },
      "source": [
        "Load the Dataset\n",
        "Here we'll use tensorflow_datasets to load the Oxford Flowers 102 dataset. This dataset has 3 splits: 'train', 'test', and 'validation'. we'll also need to make sure the training data is normalized and resized to 224x224 pixels as required by the pre-trained networks.\n",
        "\n",
        "The validation and testing sets are used to measure the model's performance on data it hasn't seen yet, but we'll still need to normalize and resize the images to the appropriate size."
      ]
    },
    {
      "cell_type": "code",
      "metadata": {
        "id": "g7A78r3Xmz4-"
      },
      "source": [
        "# Download data to default local directory \"~/tensorflow_datasets\"\n",
        "!python -m tensorflow_datasets.scripts.download_and_prepare --register_checksums=True --datasets=oxford_flowers102\n",
        "\n",
        "#Loads the dataset with TensorFlow Datasets\n",
        "dataset, dataset_info = tfds.load('oxford_flowers102', as_supervised=True, with_info=True)\n",
        "\n",
        "# Create a training set, a validation set and a test set.\n",
        "training_set, test_set , validation_set = dataset['train'], dataset['test'] , dataset['validation']\n"
      ],
      "execution_count": null,
      "outputs": []
    },
    {
      "cell_type": "code",
      "metadata": {
        "id": "n-1Q05uTm7rX"
      },
      "source": [
        "# Prints the shape and corresponding label of 3 images in the training set.\n",
        "\n",
        "shape_images = dataset_info.features['image'].shape\n",
        "\n",
        "for image, label in training_set.take(3):\n",
        "    image = image.numpy().squeeze()\n",
        "    label = label.numpy()\n",
        "\n",
        "    plt.imshow(image, cmap= plt.cm.binary)\n",
        "    plt.colorbar()\n",
        "    plt.show()\n",
        "    print('The shape of the image is ', shape_images )\n",
        "    print('The label of this image is:', label)\n"
      ],
      "execution_count": null,
      "outputs": []
    },
    {
      "cell_type": "code",
      "metadata": {
        "id": "KIWlo4DWnHG9"
      },
      "source": [
        "# Gets the number of examples in each set from the dataset info.\n",
        "print('Training set has {:,} elements '.format(dataset_info.splits['train'].num_examples))\n",
        "print('Testing set has {:,} elements '.format(dataset_info.splits['test'].num_examples))\n",
        "print('Validation set has {:,} elements '.format(dataset_info.splits['validation'].num_examples))\n",
        "# Gets the number of classes in the dataset from the dataset info.\n",
        "num_classes = dataset_info.features['label'].num_classes\n",
        "print('Dataset has {:,} Classes'.format(num_classes))"
      ],
      "execution_count": null,
      "outputs": []
    },
    {
      "cell_type": "code",
      "metadata": {
        "id": "uMfRj1PynQN_"
      },
      "source": [
        "# Plots 1 image from the training set. \n",
        "for image, label in training_set.take(1):\n",
        "    image = image.numpy().squeeze()\n",
        "    label = label.numpy()\n",
        "\n",
        "plt.imshow(image, cmap=plt.cm.binary)\n",
        "plt.title(label)\n",
        "plt.colorbar()\n",
        "plt.show()"
      ],
      "execution_count": null,
      "outputs": []
    },
    {
      "cell_type": "markdown",
      "metadata": {
        "id": "Oubmn05qnfWM"
      },
      "source": [
        "# Label Mapping\n",
        "We'll also need to load in a mapping from label to category name. This will be in the file label_map.json. It's a JSON object which you can read in with the json module. This will give a dictionary mapping the integer coded labels to the actual names of the flowers."
      ]
    },
    {
      "cell_type": "code",
      "metadata": {
        "id": "dcfqAz-CnsJe"
      },
      "source": [
        "import json\n",
        "with open('label_map.json', 'r') as f:\n",
        "    class_names = json.load(f)\n"
      ],
      "execution_count": null,
      "outputs": []
    },
    {
      "cell_type": "code",
      "metadata": {
        "id": "bz2CYECTn4P6"
      },
      "source": [
        "# Plots 1 image from the training set.  \n",
        "for image, label in training_set.take(1):\n",
        "    image = image.numpy().squeeze()\n",
        "    label = label.numpy()\n",
        "\n",
        "plt.imshow(image, cmap=plt.cm.binary)\n",
        "plt.title(class_names[format(label)])\n",
        "plt.colorbar()\n",
        "plt.show()"
      ],
      "execution_count": null,
      "outputs": []
    },
    {
      "cell_type": "markdown",
      "metadata": {
        "id": "OOfBnfpEn_mm"
      },
      "source": [
        "#Create Pipeline"
      ]
    },
    {
      "cell_type": "code",
      "metadata": {
        "id": "CY7RcwtmoBB2"
      },
      "source": [
        "# Create a pipeline for each set.\n",
        "batch_size = 32\n",
        "image_size = 224\n",
        "\n",
        "num_training_examples = 1020\n",
        "\n",
        "def format_image(image, label):\n",
        "    image = tf.cast(image, tf.float32)\n",
        "    image = tf.image.resize(image, (image_size, image_size))\n",
        "    image /= 255\n",
        "    return image, label\n",
        "\n",
        "\n",
        "training_batches = training_set.shuffle(num_training_examples//4).map(format_image).batch(batch_size).prefetch(1)\n",
        "validation_batches = validation_set.map(format_image).batch(batch_size).prefetch(1)\n",
        "testing_batches = test_set.map(format_image).batch(batch_size).prefetch(1)"
      ],
      "execution_count": null,
      "outputs": []
    },
    {
      "cell_type": "markdown",
      "metadata": {
        "id": "ClFJrX6WoQ3a"
      },
      "source": [
        "# Build and Train the Classifier\n",
        "Now that the data is ready, we're ready to build and train the classifier. We'll use the MobileNet pre-trained model from TensorFlow Hub to get the image features. \n"
      ]
    },
    {
      "cell_type": "code",
      "metadata": {
        "id": "IvFJFaiPontT"
      },
      "source": [
        "URL = \"https://tfhub.dev/google/tf2-preview/mobilenet_v2/feature_vector/4\"\n",
        "feature_extractor = hub.KerasLayer(URL, input_shape=(image_size, image_size,3))\n",
        "feature_extractor.trainable = False\n",
        "\n",
        "\n",
        "model = tf.keras.Sequential([\n",
        "        feature_extractor,\n",
        "        tf.keras.layers.Dense(102, activation = 'softmax')\n",
        "])\n",
        "model.compile(optimizer='adam',\n",
        "              loss='sparse_categorical_crossentropy',\n",
        "              metrics=['accuracy'])\n",
        "\n",
        "EPOCHS = 10\n",
        "\n",
        "history = model.fit(training_batches,\n",
        "                    epochs=EPOCHS,\n",
        "                    validation_data=validation_batches)"
      ],
      "execution_count": null,
      "outputs": []
    },
    {
      "cell_type": "code",
      "metadata": {
        "id": "lD_Tb2XKouOT"
      },
      "source": [
        "# Plots the loss and accuracy values achieved during training for the training and validation set.\n",
        "\n",
        "training_accuracy = history.history['accuracy']\n",
        "validation_accuracy = history.history['val_accuracy']\n",
        "\n",
        "training_loss = history.history['loss']\n",
        "validation_loss = history.history['val_loss']\n",
        "\n",
        "epochs_range=range(EPOCHS)\n",
        "\n",
        "plt.figure(figsize=(8, 8))\n",
        "plt.subplot(1, 2, 1)\n",
        "plt.plot(epochs_range, training_accuracy, label='Training Accuracy')\n",
        "plt.plot(epochs_range, validation_accuracy, label='Validation Accuracy')\n",
        "plt.legend(loc='lower right')\n",
        "plt.title('Training and Validation Accuracy')\n",
        "\n",
        "plt.subplot(1, 2, 2)\n",
        "plt.plot(epochs_range, training_loss, label='Training Loss')\n",
        "plt.plot(epochs_range, validation_loss, label='Validation Loss')\n",
        "plt.legend(loc='upper right')\n",
        "plt.title('Training and Validation Loss')\n",
        "plt.show()"
      ],
      "execution_count": null,
      "outputs": []
    },
    {
      "cell_type": "markdown",
      "metadata": {
        "id": "0srwlJrXo05f"
      },
      "source": [
        "#Testing the Network"
      ]
    },
    {
      "cell_type": "code",
      "metadata": {
        "id": "-1c21Ooto3E0"
      },
      "source": [
        "# TODO: Print the loss and accuracy values achieved on the entire test set.\n",
        "\n",
        "loss, accuracy = model.evaluate(testing_batches)\n",
        "\n",
        "print('\\nLoss on the TEST Set: {:,.3f}'.format(loss))\n",
        "print('Accuracy on the TEST Set: {:.3%}'.format(accuracy))\n"
      ],
      "execution_count": null,
      "outputs": []
    },
    {
      "cell_type": "markdown",
      "metadata": {
        "id": "XU12kSYKo-eU"
      },
      "source": [
        "#Saving the Model"
      ]
    },
    {
      "cell_type": "code",
      "metadata": {
        "id": "ag222RKIpAdr"
      },
      "source": [
        "t = time.time()\n",
        "\n",
        "saved_keras_model_filepath = './{}.h5'.format(int(t))\n",
        "\n",
        "model.save(saved_keras_model_filepath)\n"
      ],
      "execution_count": null,
      "outputs": []
    },
    {
      "cell_type": "code",
      "metadata": {
        "id": "46WZMcYVpMgt"
      },
      "source": [
        "# Recovers the model that was previously saved\n",
        "reloaded_keras_model = tf.keras.models.load_model(saved_keras_model_filepath, custom_objects={'KerasLayer':hub.KerasLayer})"
      ],
      "execution_count": null,
      "outputs": []
    },
    {
      "cell_type": "markdown",
      "metadata": {
        "id": "Rl4IKV9tpWqK"
      },
      "source": [
        "#Inference for Classification\n",
        "Now we'll write a function that uses your trained network for inference. The function called predict takes an image, a model, and then returns the top  K  most likely class labels along with the probabilities. \n",
        "\n",
        "The predict function will also need to handle pre-processing the input image such that it can be used by the model. \n"
      ]
    },
    {
      "cell_type": "code",
      "metadata": {
        "id": "sh0nOePwpuCQ"
      },
      "source": [
        "def process_image(image):\n",
        "    image = tf.convert_to_tensor(image)\n",
        "\n",
        "    image = tf.image.resize(image, size = (224,224))\n",
        "    image /= 255\n",
        "    image = image.numpy()\n",
        "    return image"
      ],
      "execution_count": null,
      "outputs": []
    },
    {
      "cell_type": "code",
      "metadata": {
        "id": "R9q-2jsTpu9k"
      },
      "source": [
        "from PIL import Image\n",
        "\n",
        "image_path = './test_images/hard-leaved_pocket_orchid.jpg'\n",
        "im = Image.open(image_path)\n",
        "test_image = np.asarray(im)\n",
        "\n",
        "processed_test_image = process_image(test_image)\n",
        "\n",
        "fig, (ax1, ax2) = plt.subplots(figsize=(10,10), ncols=2)\n",
        "ax1.imshow(test_image)\n",
        "ax1.set_title('Original Image')\n",
        "ax2.imshow(processed_test_image)\n",
        "ax2.set_title('Processed Image')\n",
        "plt.tight_layout()\n",
        "plt.show()"
      ],
      "execution_count": null,
      "outputs": []
    },
    {
      "cell_type": "code",
      "metadata": {
        "id": "XSBFqkHZp2-W"
      },
      "source": [
        "#Creates the predict function\n",
        "\n",
        "def predict(image_path, model, top_k=5):\n",
        "    image = Image.open(image_path)\n",
        "    image = np.asarray(image)\n",
        "    image = process_image(image)\n",
        "    image = np.expand_dims(image, axis = 0)\n",
        "    predictions = model.predict(image)\n",
        "    \n",
        "    top_ps, top_k_indices = tf.math.top_k(predictions, top_k)\n",
        "\n",
        "    \n",
        "    return top_ps.numpy()[0], top_k_indices.numpy()[0]"
      ],
      "execution_count": null,
      "outputs": []
    },
    {
      "cell_type": "code",
      "metadata": {
        "id": "PNC4lp-pqC0I"
      },
      "source": [
        "# Plot the input image along with the top 5 classes\n",
        "image_path = './test_images/cautleya_spicata.jpg'\n",
        "\n",
        "probabilities, classes = predict(image_path,model,5)\n",
        "\n",
        "im = Image.open(image_path)\n",
        "test_image = np.asarray(im)\n",
        "\n",
        "processed_test_image = process_image(test_image)\n",
        "\n",
        "\n",
        "\n",
        "top_names = []\n",
        "for i in classes:\n",
        "    top_names.append(class_names[str(i+1)])\n",
        "    \n",
        "fig, (ax1, ax2) = plt.subplots(figsize=(10,10), ncols=2)\n",
        "ax1.imshow(processed_test_image)\n",
        "ax1.set_title(top_names[0],{'fontsize':20})\n",
        "ax2.barh(np.arange(5), probabilities)\n",
        "ax2.set_aspect(0.1)\n",
        "ax2.set_yticks(np.arange(5))\n",
        "ax2.set_yticklabels(top_names, size='small');\n",
        "ax2.set_title('Class Probability',{'fontsize':20})\n",
        "ax2.set_xlim(0, 1.1)\n",
        "plt.tight_layout()\n",
        "plt.show()"
      ],
      "execution_count": null,
      "outputs": []
    }
  ]
}